{
 "cells": [
  {
   "cell_type": "markdown",
   "metadata": {},
   "source": [
    "### **Load Data**"
   ]
  },
  {
   "cell_type": "code",
   "execution_count": null,
   "metadata": {},
   "outputs": [
    {
     "ename": "",
     "evalue": "",
     "output_type": "error",
     "traceback": [
      "\u001b[1;31mRunning cells with '.venv (Python 3.12.7)' requires the ipykernel package.\n",
      "\u001b[1;31mRun the following command to install 'ipykernel' into the Python environment. \n",
      "\u001b[1;31mCommand: '\"c:/Users/ratumambing/OneDrive - ACEN Corporation/Documents/GitHub/Python-DS/2. Day 5 with Carlo G/2.-Day-5-with-Carlo-G/.venv/Scripts/python.exe\" -m pip install ipykernel -U --force-reinstall'"
     ]
    }
   ],
   "source": [
    "import pandas as pd\n",
    "\n",
    "# Load data set\n",
    "\n",
    "def load_data(file_path):\n",
    "    df = pd.read_csv(file_path)\n",
    "    \n",
    "    return df\n",
    "\n",
    "file_path = '../data/flight_df.csv'\n",
    "df = load_data(file_path)\n",
    "\n",
    "df.head()"
   ]
  },
  {
   "cell_type": "markdown",
   "metadata": {},
   "source": [
    "### **Model Validation**"
   ]
  },
  {
   "cell_type": "code",
   "execution_count": null,
   "metadata": {},
   "outputs": [],
   "source": [
    "from sklearn.model_selection import train_test_split\n",
    "\n",
    "# Define target variable\n",
    "y =df['satisfied']\n",
    "X = df.drop(columns='satisfied')"
   ]
  },
  {
   "cell_type": "code",
   "execution_count": null,
   "metadata": {},
   "outputs": [],
   "source": [
    "# Split data into train and test sets\n",
    "X_train, X_test, y_train, y_test = train_test_split(X, y, test_size=0.2, random_state=42)\n",
    "\n",
    "#Check for class imbalance\n",
    "y.value_counts(normalize=True)"
   ]
  },
  {
   "cell_type": "markdown",
   "metadata": {},
   "source": [
    "### **Preprocessing**"
   ]
  },
  {
   "cell_type": "code",
   "execution_count": null,
   "metadata": {},
   "outputs": [],
   "source": [
    "from sklearn.compose import make_column_selector, ColumnTransformer\n",
    "from sklearn.preprocessing import StandardScaler, OneHotEncoder\n",
    "from sklearn.impute import KNNImputer\n",
    "from sklearn.pipeline import Pipeline\n",
    "\n",
    "# Select numeric and categorical columns\n",
    "num_cols = make_column_selector(dtype_include='number')\n",
    "cat_cols = make_column_selector(dtype_include='object')\n",
    "\n",
    "# Instantiate transformer\n",
    "scaler = StandardScaler()\n",
    "encoder = OneHotEncoder(handle_unknown='ignore')\n",
    "imputer = KNNImputer(n_neighbors=2, weights='uniform') # Use KNN algorithm to impute missing values to preserve data integrity\n",
    "\n",
    "# preprocessing pipeline\n",
    "def preprocessing_pipeline():\n",
    "    \n",
    "    num_pipe = Pipeline([\n",
    "        ('scaler', scaler),\n",
    "        ('imputer', imputer)\n",
    "    ])\n",
    "    \n",
    "    cat_pipe = Pipeline([\n",
    "        ('encoder', encoder)\n",
    "    ])\n",
    "    \n",
    "    preprocessor = ColumnTransformer([\n",
    "        ('numeric', num_pipe, num_cols),\n",
    "        ('categorical', cat_pipe, cat_cols)\n",
    "    ])\n",
    "    \n",
    "    return preprocessor\n",
    "\n",
    "# Create preprocessor object\n",
    "preprocessor = preprocessing_pipeline()"
   ]
  },
  {
   "cell_type": "code",
   "execution_count": null,
   "metadata": {},
   "outputs": [],
   "source": [
    "from imblearn.over_sampling import SMOTE # Synthetic Minority Oversampling TEchnique\n",
    "from imblearn. pipeline import Pipeline as ImbalancePipeline\n",
    "\n",
    "# Create sampler pipeline\n",
    "def sampler_pipeline(sampler):\n",
    "    \n",
    "    return ImbalancePipeline([\n",
    "        ('sampler', sampler)\n",
    "    ])\n",
    "    \n",
    "# Create sampler object\n",
    "sampler = sampler_pipeline(SMOTE(random_state=42))\n",
    "\n",
    "# preprocess and rebalance the dataset\n",
    "def preprocess_and_rebalance(preprocessor, X_train, X_test, y_train):\n",
    "    \n",
    "    # transform training data to the fitted transformer\n",
    "    X_train_transformed = preprocessor.fit_transform(X_train)\n",
    "    X_test_transformed = preprocessor.transform(X_test)\n",
    "\n",
    "    # Rebalance training load_data\n",
    "    X_train_balanced, y_train_balanced = sampler.fit_resample(X_train_transformed, y_train)\n",
    "    \n",
    "    return X_train_balanced, X_test_transformed, y_train_balanced\n",
    "\n",
    "# Preprocess and Rebalance the dataset\n",
    "\n",
    "X_train_balanced, X_test_transformed, y_train_balanced = preprocess_and_rebalance(preprocessor, X_train, X_test, y_train)"
   ]
  },
  {
   "cell_type": "code",
   "execution_count": null,
   "metadata": {},
   "outputs": [],
   "source": [
    "import matplotlib.pyplot as plt\n",
    "import seaborn as sns\n",
    "\n",
    "# Dark mode\n",
    "plt.style.use('dark_background')\n",
    "\n",
    "# Visualize data before SMOTE\n",
    "def plot_distribution(y, title):\n",
    "    plt.figure(figsize=(5, 3))\n",
    "    sns.countplot(\n",
    "        x=y, # y is the target variable 'satisfied'\n",
    "        palette = 'pastel',\n",
    "        hue=y\n",
    "    )\n",
    "    \n",
    "    plt.title(title)\n",
    "    plt.xlabel('Class')\n",
    "    plt.ylabel('Count')\n",
    "    plt.show()\n",
    "    \n",
    "# Visualize data before SMOTE\n",
    "plot_distribution(y, title='Class Distribution Before SMOTE')\n",
    "\n",
    "# Visualize data after SMOTE\n",
    "plot_distribution(y_train_balanced, title='Class Distribution After SMOTE')"
   ]
  },
  {
   "cell_type": "code",
   "execution_count": null,
   "metadata": {},
   "outputs": [],
   "source": [
    "# Convert preprocessed data back to a dataframe\n",
    "X_train_balanced_df = pd.DataFrame(X_train_balanced)\n",
    "X_test_transformed_df = pd.DataFrame(X_test_transformed)"
   ]
  },
  {
   "cell_type": "markdown",
   "metadata": {},
   "source": [
    "### **Machine Learning**"
   ]
  },
  {
   "cell_type": "code",
   "execution_count": null,
   "metadata": {},
   "outputs": [],
   "source": [
    "from lazypredict.Supervised import LazyClassifier\n",
    "# Instantiate the model\n",
    "lazy_clf = LazyClassifier(verbose=0, ignore_warnings=False, custom_metric=None)\n",
    "# Make predictions\n",
    "models, predictions = lazy_clf.fit(X_train_balanced_df, X_test_transformed_df, y_train_balanced, y_test)\n",
    "# Return models\n",
    "models"
   ]
  },
  {
   "cell_type": "code",
   "execution_count": null,
   "metadata": {},
   "outputs": [],
   "source": [
    "# Return top 5 models\n",
    "top_5_models = models.sort_values('F1 Score', ascending=False).head()\n",
    "top_5_models"
   ]
  },
  {
   "cell_type": "markdown",
   "metadata": {},
   "source": [
    "### **Evaluation**"
   ]
  },
  {
   "cell_type": "code",
   "execution_count": null,
   "metadata": {},
   "outputs": [],
   "source": [
    "import numpy as np\n",
    "from sklearn.metrics import (\n",
    "    accuracy_score,\n",
    "    recall_score,\n",
    "    precision_score,\n",
    "    f1_score,\n",
    "    classification_report,\n",
    "    confusion_matrix,\n",
    "    ConfusionMatrixDisplay\n",
    ")\n",
    "\n",
    "# Function to evaluate model performance\n",
    "def evaluate_model(model, X_train, y_train, X_test, y_test):\n",
    "    \n",
    "    # Make Predictions\n",
    "    train_preds = np.rint(model.predict(X_train))\n",
    "    test_preds = np.rint(model.predict(X_test))\n",
    "    \n",
    "    # Classification report\n",
    "    train_report = classification_report(y_train, train_preds)\n",
    "    test_report = classification_report(y_test, test_preds)\n",
    "    \n",
    "    # Confusion matrix\n",
    "    train_cn = confusion_matrix(y_train, train_preds)\n",
    "    test_cn = confusion_matrix(y_test, test_preds)\n",
    "    \n",
    "    # Define labels\n",
    "    labels = ['Not Satisfied', 'Satisfied']\n",
    "    \n",
    "    # Plot confusion matrices side-by-side Training\n",
    "    fig, axes = plt.subplots(1, 2, figsize=(15, 5))\n",
    "    \n",
    "    # First axis\n",
    "    axes[0].test(0.01, 0.05, str(train_report), fontproperties='monospace')\n",
    "    axes[0].axis('off')\n",
    "    \n",
    "    # Second axis\n",
    "    disp_train = ConfusionMatrixDisplay(confusion_matrix=train_cn, display_labels=labels)\n",
    "    disp_train.plot(ax=axes[1], cmap='Blues')\n",
    "    axes[1].set_title('Training Confusion Matrix')\n",
    "    \n",
    "    # Plot confusion matrices side-by-side Testing\n",
    "    fig, axes = plt.subplots(1, 2, figsize=(15, 5))\n",
    "    \n",
    "    # First axis\n",
    "    axes[0].test(0.01, 0.05, str(test_report), fontproperties='monospace')\n",
    "    axes[0].axis('off')\n",
    "    \n",
    "    # Second axis\n",
    "    disp_test = ConfusionMatrixDisplay(confusion_matrix=test_cn, display_labels=labels)\n",
    "    disp_test.plot(ax=axes[1], cmap='Blues')\n",
    "    axes[1].set_title('Testing Confusion Matrix')\n",
    "    \n",
    "    plt.show()\n",
    "    \n",
    "    return train_report, test_report"
   ]
  },
  {
   "cell_type": "code",
   "execution_count": null,
   "metadata": {},
   "outputs": [],
   "source": [
    "# ML pipeline\n",
    "def train_and_predict(X_train, y_train, X_test, preprocessor, model):\n",
    "    \n",
    "    # Complete pipeline and model\n",
    "    model_pipeline = Pipeline(steps=[\n",
    "        ('preprocessor', preprocessor),\n",
    "        ('model', model)\n",
    "    ])\n",
    "    \n",
    "    # Fit model\n",
    "    model_pipeline.fit(X_train, y_train)\n",
    "    \n",
    "    # Save predictions\n",
    "    train_preds = model_pipeline.predict(X_train)\n",
    "    test_preds = model_pipeline.predict(X_test)\n",
    "    \n",
    "    return train_preds, test_preds"
   ]
  },
  {
   "cell_type": "code",
   "execution_count": null,
   "metadata": {},
   "outputs": [],
   "source": [
    "import lightgbm as lgb\n",
    "\n",
    "# Instantiate the model\n",
    "lgb_model = lgb.LGBMClassifier(verbose=-1, random_state=42)\n",
    "\n",
    "# Create and save predictions\n",
    "train_preds, test_preds = train_and_predict(X_train_balanced_df, y_train_balanced, X_test_transformed_df, preprocessor, lgb_model)\n",
    "\n",
    "# Return train and test reports\n",
    "train_report, test_report = evaluate_model(lgb_model, X_train_balanced_df, y_train_balanced, X_test_transformed_df, y_test)"
   ]
  },
  {
   "cell_type": "code",
   "execution_count": null,
   "metadata": {},
   "outputs": [],
   "source": [
    "from sklearn.tree import DecisionTreeClassifier\n",
    "\n",
    "# Instantiate the model\n",
    "dec_tree = DecisionTreeClassifier()\n",
    "\n",
    "# Create and save predictions\n",
    "train_preds, test_preds = train_and_predict(X_train_balanced_df, y_train_balanced, X_test_transformed_df, preprocessor, dec_tree)\n",
    "\n",
    "# Return train and test reports\n",
    "train_report, test_report = evaluate_model(lgb_model, X_train_balanced_df, y_train_balanced, X_test_transformed_df, y_test)"
   ]
  },
  {
   "cell_type": "markdown",
   "metadata": {},
   "source": [
    "### **Feature Importanc**"
   ]
  }
 ],
 "metadata": {
  "kernelspec": {
   "display_name": ".venv",
   "language": "python",
   "name": "python3"
  },
  "language_info": {
   "codemirror_mode": {
    "name": "ipython",
    "version": 3
   },
   "file_extension": ".py",
   "mimetype": "text/x-python",
   "name": "python",
   "nbconvert_exporter": "python",
   "pygments_lexer": "ipython3",
   "version": "3.12.7"
  }
 },
 "nbformat": 4,
 "nbformat_minor": 2
}
